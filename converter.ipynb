{
 "cells": [
  {
   "cell_type": "code",
   "execution_count": 1,
   "id": "1f44c495",
   "metadata": {},
   "outputs": [],
   "source": [
    "# imports and setup\n",
    "from tex_functions import compile_tex_files, create_tex_files_from_json\n",
    "from svg_functions import convert_DVI_to_SVGs, combine_SVGs_to_symbol"
   ]
  },
  {
   "cell_type": "markdown",
   "id": "8cf65ae8",
   "metadata": {},
   "source": [
    "# Create Tex Files"
   ]
  },
  {
   "cell_type": "code",
   "execution_count": 3,
   "id": "5ed9b41a",
   "metadata": {},
   "outputs": [],
   "source": [
    "create_tex_files_from_json()"
   ]
  },
  {
   "cell_type": "code",
   "execution_count": 11,
   "id": "45a236a4",
   "metadata": {},
   "outputs": [
    {
     "name": "stderr",
     "output_type": "stream",
     "text": [
      "Compiling .tex files: 100%|██████████| 1/1 [00:04<00:00,  4.05s/file]\n"
     ]
    }
   ],
   "source": [
    "compile_tex_files()"
   ]
  },
  {
   "cell_type": "code",
   "execution_count": 2,
   "id": "d7669231",
   "metadata": {},
   "outputs": [
    {
     "data": {
      "application/vnd.jupyter.widget-view+json": {
       "model_id": "c09d506013c0425896f28a2f278bfdaf",
       "version_major": 2,
       "version_minor": 0
      },
      "text/plain": [
       "Converting .dvi files:   0%|          | 0/21 [00:00<?, ?file/s]"
      ]
     },
     "metadata": {},
     "output_type": "display_data"
    },
    {
     "name": "stdout",
     "output_type": "stream",
     "text": [
      "Sucessfully converted all .dvi files!\n"
     ]
    }
   ],
   "source": [
    "convert_DVI_to_SVGs()"
   ]
  },
  {
   "cell_type": "code",
   "execution_count": 2,
   "id": "be7282be",
   "metadata": {},
   "outputs": [
    {
     "ename": "IndexError",
     "evalue": "list index out of range",
     "output_type": "error",
     "traceback": [
      "\u001b[1;31m---------------------------------------------------------------------------\u001b[0m",
      "\u001b[1;31mIndexError\u001b[0m                                Traceback (most recent call last)",
      "Cell \u001b[1;32mIn[2], line 1\u001b[0m\n\u001b[1;32m----> 1\u001b[0m combine_SVGs_to_symbol()\n",
      "File \u001b[1;32mc:\\Users\\wiedemann\\Documents\\Projekte\\Circuit2TikZ\\SymbolConvert\\svg_functions.py:451\u001b[0m, in \u001b[0;36mcombine_SVGs_to_symbol\u001b[1;34m()\u001b[0m\n\u001b[0;32m    448\u001b[0m component\u001b[38;5;241m.\u001b[39msetAttribute(\u001b[38;5;124m\"\u001b[39m\u001b[38;5;124mtikzName\u001b[39m\u001b[38;5;124m\"\u001b[39m, firstComponentInfo\u001b[38;5;241m.\u001b[39mgetAttribute(\u001b[38;5;124m\"\u001b[39m\u001b[38;5;124mtikzName\u001b[39m\u001b[38;5;124m\"\u001b[39m))\n\u001b[0;32m    449\u001b[0m component\u001b[38;5;241m.\u001b[39msetAttribute(\u001b[38;5;124m\"\u001b[39m\u001b[38;5;124mgroupName\u001b[39m\u001b[38;5;124m\"\u001b[39m, firstComponentInfo\u001b[38;5;241m.\u001b[39mgetAttribute(\u001b[38;5;124m\"\u001b[39m\u001b[38;5;124mgroupName\u001b[39m\u001b[38;5;124m\"\u001b[39m))\n\u001b[1;32m--> 451\u001b[0m tikzOptions \u001b[38;5;241m=\u001b[39m firstSymbol\u001b[38;5;241m.\u001b[39mgetElementsByTagName(\u001b[38;5;124m\"\u001b[39m\u001b[38;5;124mtikzOptions\u001b[39m\u001b[38;5;124m\"\u001b[39m)[\u001b[38;5;241m0\u001b[39m]\n\u001b[0;32m    452\u001b[0m \u001b[38;5;28;01mif\u001b[39;00m tikzOptions\u001b[38;5;241m.\u001b[39mhasChildNodes():\n\u001b[0;32m    453\u001b[0m \t\u001b[38;5;28;01mtry\u001b[39;00m:\n",
      "\u001b[1;31mIndexError\u001b[0m: list index out of range"
     ]
    }
   ],
   "source": [
    "combine_SVGs_to_symbol()"
   ]
  }
 ],
 "metadata": {
  "kernelspec": {
   "display_name": "main",
   "language": "python",
   "name": "python3"
  },
  "language_info": {
   "codemirror_mode": {
    "name": "ipython",
    "version": 3
   },
   "file_extension": ".py",
   "mimetype": "text/x-python",
   "name": "python",
   "nbconvert_exporter": "python",
   "pygments_lexer": "ipython3",
   "version": "3.12.4"
  }
 },
 "nbformat": 4,
 "nbformat_minor": 5
}
