{
 "cells": [
  {
   "cell_type": "code",
   "execution_count": 1,
   "id": "1f44c495",
   "metadata": {},
   "outputs": [],
   "source": [
    "# imports and setup\n",
    "from tex_functions import compile_tex_files, create_tex_files_from_json\n",
    "from svg_functions import convert_DVI_to_SVGs, combine_SVGs_to_symbol"
   ]
  },
  {
   "cell_type": "markdown",
   "id": "8cf65ae8",
   "metadata": {},
   "source": [
    "# Create Tex Files"
   ]
  },
  {
   "cell_type": "code",
   "execution_count": 3,
   "id": "5ed9b41a",
   "metadata": {},
   "outputs": [],
   "source": [
    "create_tex_files_from_json()"
   ]
  },
  {
   "cell_type": "code",
   "execution_count": 11,
   "id": "45a236a4",
   "metadata": {},
   "outputs": [
    {
     "name": "stderr",
     "output_type": "stream",
     "text": [
      "Compiling .tex files: 100%|██████████| 1/1 [00:04<00:00,  4.05s/file]\n"
     ]
    }
   ],
   "source": [
    "compile_tex_files()"
   ]
  },
  {
   "cell_type": "code",
   "execution_count": 2,
   "id": "d7669231",
   "metadata": {},
   "outputs": [
    {
     "data": {
      "application/vnd.jupyter.widget-view+json": {
       "model_id": "c09d506013c0425896f28a2f278bfdaf",
       "version_major": 2,
       "version_minor": 0
      },
      "text/plain": [
       "Converting .dvi files:   0%|          | 0/21 [00:00<?, ?file/s]"
      ]
     },
     "metadata": {},
     "output_type": "display_data"
    },
    {
     "name": "stdout",
     "output_type": "stream",
     "text": [
      "Sucessfully converted all .dvi files!\n"
     ]
    }
   ],
   "source": [
    "convert_DVI_to_SVGs()"
   ]
  },
  {
   "cell_type": "code",
   "execution_count": null,
   "id": "be7282be",
   "metadata": {},
   "outputs": [],
   "source": [
    "combine_SVGs_to_symbol()"
   ]
  }
 ],
 "metadata": {
  "kernelspec": {
   "display_name": "main",
   "language": "python",
   "name": "python3"
  },
  "language_info": {
   "codemirror_mode": {
    "name": "ipython",
    "version": 3
   },
   "file_extension": ".py",
   "mimetype": "text/x-python",
   "name": "python",
   "nbconvert_exporter": "python",
   "pygments_lexer": "ipython3",
   "version": "3.12.4"
  }
 },
 "nbformat": 4,
 "nbformat_minor": 5
}
