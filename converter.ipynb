{
 "cells": [
  {
   "cell_type": "code",
   "execution_count": null,
   "id": "1f44c495",
   "metadata": {},
   "outputs": [],
   "source": [
    "# imports and setup\n",
    "from lib.tex_functions import compile_tex_files, create_tex_files_from_json\n",
    "from lib.svg_functions import convert_DVI_to_SVGs, combine_SVGs_to_symbol"
   ]
  },
  {
   "cell_type": "code",
   "execution_count": 2,
   "id": "5ed9b41a",
   "metadata": {},
   "outputs": [],
   "source": [
    "create_tex_files_from_json()"
   ]
  },
  {
   "cell_type": "code",
   "execution_count": 3,
   "id": "45a236a4",
   "metadata": {},
   "outputs": [
    {
     "data": {
      "application/vnd.jupyter.widget-view+json": {
       "model_id": "e12646e08e99484ab5136c779a2d82a2",
       "version_major": 2,
       "version_minor": 0
      },
      "text/plain": [
       "Compiling .tex files:   0%|          | 0/1432 [00:00<?, ?file/s]"
      ]
     },
     "metadata": {},
     "output_type": "display_data"
    },
    {
     "name": "stdout",
     "output_type": "stream",
     "text": [
      "Sucessfully compiled all .tex files!\n"
     ]
    }
   ],
   "source": [
    "compile_tex_files()"
   ]
  },
  {
   "cell_type": "code",
   "execution_count": 4,
   "id": "d7669231",
   "metadata": {},
   "outputs": [
    {
     "data": {
      "application/vnd.jupyter.widget-view+json": {
       "model_id": "954de926ee954b96a9247d26df9b6948",
       "version_major": 2,
       "version_minor": 0
      },
      "text/plain": [
       "Converting .dvi files:   0%|          | 0/1432 [00:00<?, ?file/s]"
      ]
     },
     "metadata": {},
     "output_type": "display_data"
    },
    {
     "name": "stdout",
     "output_type": "stream",
     "text": [
      "Sucessfully converted all .dvi files to .svg files!\n"
     ]
    }
   ],
   "source": [
    "convert_DVI_to_SVGs()"
   ]
  },
  {
   "cell_type": "code",
   "execution_count": 5,
   "id": "be7282be",
   "metadata": {},
   "outputs": [],
   "source": [
    "combine_SVGs_to_symbol()"
   ]
  }
 ],
 "metadata": {
  "kernelspec": {
   "display_name": "main",
   "language": "python",
   "name": "python3"
  },
  "language_info": {
   "codemirror_mode": {
    "name": "ipython",
    "version": 3
   },
   "file_extension": ".py",
   "mimetype": "text/x-python",
   "name": "python",
   "nbconvert_exporter": "python",
   "pygments_lexer": "ipython3",
   "version": "3.12.4"
  }
 },
 "nbformat": 4,
 "nbformat_minor": 5
}
